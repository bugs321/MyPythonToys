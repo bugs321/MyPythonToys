{
 "cells": [
  {
   "cell_type": "markdown",
   "metadata": {},
   "source": [
    "# Random Password Generator \n",
    "<img src=Password.JPG>"
   ]
  },
  {
   "cell_type": "code",
   "execution_count": 1,
   "metadata": {},
   "outputs": [],
   "source": [
    "#import the necessary modules!\n",
    "import random\n",
    "import string"
   ]
  },
  {
   "cell_type": "code",
   "execution_count": 3,
   "metadata": {},
   "outputs": [
    {
     "name": "stdout",
     "output_type": "stream",
     "text": [
      "This is Password generator!\n",
      "Let me generate, a password to satisfy below requirements with lenght as 5 \n",
      "2 : Upper case \n",
      "2 : Lower Case\n",
      "2 : Numbers \n",
      "2 : Special Characters\n"
     ]
    }
   ],
   "source": [
    "print('This is Password generator!')\n",
    "# 2 uppercase letters from A to Z,\n",
    "# 2 lowercase letters from a to z,\n",
    "# 2 digits from 0 to 9,\n",
    "# 2 punctuation signs such as !, ?, “, # etc.\n",
    "# To solve this challenge we will have to generate random characters and to do so we will need to use the ASCII code.\n",
    "\n",
    "pass_len = 8\n",
    "ucase_cnt=2\n",
    "lcase_cnt=2\n",
    "num_cnt=2\n",
    "spl_char_cnt=2\n",
    "print(f'Let me generate, a password to satisfy below requirements with lenght as {5} \\n{ucase_cnt} : Upper case \\n{lcase_cnt} : Lower Case\\n{num_cnt} : Numbers \\n{spl_char_cnt} : Special Characters'\n",
    "     )"
   ]
  },
  {
   "cell_type": "code",
   "execution_count": 23,
   "metadata": {},
   "outputs": [],
   "source": [
    "#data  reporsitory\n",
    "lower = string.ascii_lowercase\n",
    "upper = string.ascii_uppercase\n",
    "num = string.digits\n",
    "spl = string.punctuation\n",
    "\n",
    "#string.ascii_letters : get random selections based on requirments\n",
    "lower_req=random.sample(lower,ucase_cnt)\n",
    "upper_req=random.sample(upper,lcase_cnt)\n",
    "number_req=random.sample(num,num_cnt)\n",
    "splchar_req=random.sample(spl,spl_char_cnt)"
   ]
  },
  {
   "cell_type": "code",
   "execution_count": 24,
   "metadata": {},
   "outputs": [],
   "source": [
    "#combine all the random data\n",
    "all = lower_req + upper_req + number_req + splchar_req"
   ]
  },
  {
   "cell_type": "code",
   "execution_count": null,
   "metadata": {},
   "outputs": [],
   "source": [
    "#random the password\n",
    "temp = random.sample(all,pass_len)\n",
    "\n",
    "#Removing array symbols, example o/p temp :['a', ':', 'g', 'D', 'Z', '|', '7', '3']\n",
    "password = \"\".join(temp)\n",
    "\n",
    "#print the password\n",
    "print(password)"
   ]
  }
 ],
 "metadata": {
  "kernelspec": {
   "display_name": "Python 3",
   "language": "python",
   "name": "python3"
  },
  "language_info": {
   "codemirror_mode": {
    "name": "ipython",
    "version": 3
   },
   "file_extension": ".py",
   "mimetype": "text/x-python",
   "name": "python",
   "nbconvert_exporter": "python",
   "pygments_lexer": "ipython3",
   "version": "3.8.3"
  }
 },
 "nbformat": 4,
 "nbformat_minor": 4
}
